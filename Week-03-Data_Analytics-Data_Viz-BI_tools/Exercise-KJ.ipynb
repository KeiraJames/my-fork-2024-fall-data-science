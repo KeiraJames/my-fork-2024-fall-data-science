{
 "cells": [
  {
   "cell_type": "code",
   "execution_count": 99,
   "id": "520b6c75-925e-4de5-bd9a-ed6a1f80eeb0",
   "metadata": {
    "tags": []
   },
   "outputs": [],
   "source": [
    "# Import pandas\n",
    "import pandas as pd\n",
    "from tabulate import tabulate"
   ]
  },
  {
   "cell_type": "code",
   "execution_count": 100,
   "id": "cc7fa726-c2fd-4cfd-9970-7da5371638be",
   "metadata": {
    "tags": []
   },
   "outputs": [
    {
     "data": {
      "text/html": [
       "<div>\n",
       "<style scoped>\n",
       "    .dataframe tbody tr th:only-of-type {\n",
       "        vertical-align: middle;\n",
       "    }\n",
       "\n",
       "    .dataframe tbody tr th {\n",
       "        vertical-align: top;\n",
       "    }\n",
       "\n",
       "    .dataframe thead th {\n",
       "        text-align: right;\n",
       "    }\n",
       "</style>\n",
       "<table border=\"1\" class=\"dataframe\">\n",
       "  <thead>\n",
       "    <tr style=\"text-align: right;\">\n",
       "      <th></th>\n",
       "      <th>id</th>\n",
       "      <th>name</th>\n",
       "      <th>host_id</th>\n",
       "      <th>host_name</th>\n",
       "      <th>neighbourhood_group</th>\n",
       "      <th>neighbourhood</th>\n",
       "      <th>latitude</th>\n",
       "      <th>longitude</th>\n",
       "      <th>room_type</th>\n",
       "      <th>price</th>\n",
       "      <th>minimum_nights</th>\n",
       "      <th>number_of_reviews</th>\n",
       "      <th>last_review</th>\n",
       "      <th>reviews_per_month</th>\n",
       "      <th>calculated_host_listings_count</th>\n",
       "      <th>availability_365</th>\n",
       "    </tr>\n",
       "  </thead>\n",
       "  <tbody>\n",
       "    <tr>\n",
       "      <th>0</th>\n",
       "      <td>2595</td>\n",
       "      <td>Skylit Midtown Castle</td>\n",
       "      <td>2845</td>\n",
       "      <td>Jennifer</td>\n",
       "      <td>Manhattan</td>\n",
       "      <td>Midtown</td>\n",
       "      <td>40.75362</td>\n",
       "      <td>-73.98377</td>\n",
       "      <td>Entire home/apt</td>\n",
       "      <td>175</td>\n",
       "      <td>3</td>\n",
       "      <td>48</td>\n",
       "      <td>2019-11-04</td>\n",
       "      <td>0.37</td>\n",
       "      <td>2</td>\n",
       "      <td>365</td>\n",
       "    </tr>\n",
       "    <tr>\n",
       "      <th>1</th>\n",
       "      <td>3831</td>\n",
       "      <td>Whole flr w/private bdrm, bath &amp; kitchen(pls r...</td>\n",
       "      <td>4869</td>\n",
       "      <td>LisaRoxanne</td>\n",
       "      <td>Brooklyn</td>\n",
       "      <td>Clinton Hill</td>\n",
       "      <td>40.68514</td>\n",
       "      <td>-73.95976</td>\n",
       "      <td>Entire home/apt</td>\n",
       "      <td>75</td>\n",
       "      <td>1</td>\n",
       "      <td>340</td>\n",
       "      <td>2020-08-01</td>\n",
       "      <td>4.75</td>\n",
       "      <td>1</td>\n",
       "      <td>265</td>\n",
       "    </tr>\n",
       "    <tr>\n",
       "      <th>2</th>\n",
       "      <td>5121</td>\n",
       "      <td>BlissArtsSpace!</td>\n",
       "      <td>7356</td>\n",
       "      <td>Garon</td>\n",
       "      <td>Brooklyn</td>\n",
       "      <td>Bedford-Stuyvesant</td>\n",
       "      <td>40.68688</td>\n",
       "      <td>-73.95596</td>\n",
       "      <td>Private room</td>\n",
       "      <td>60</td>\n",
       "      <td>29</td>\n",
       "      <td>50</td>\n",
       "      <td>2019-12-02</td>\n",
       "      <td>0.37</td>\n",
       "      <td>1</td>\n",
       "      <td>365</td>\n",
       "    </tr>\n",
       "    <tr>\n",
       "      <th>3</th>\n",
       "      <td>5136</td>\n",
       "      <td>Spacious Brooklyn Duplex, Patio + Garden</td>\n",
       "      <td>7378</td>\n",
       "      <td>Rebecca</td>\n",
       "      <td>Brooklyn</td>\n",
       "      <td>Sunset Park</td>\n",
       "      <td>40.66120</td>\n",
       "      <td>-73.99423</td>\n",
       "      <td>Entire home/apt</td>\n",
       "      <td>175</td>\n",
       "      <td>14</td>\n",
       "      <td>1</td>\n",
       "      <td>2014-01-02</td>\n",
       "      <td>0.01</td>\n",
       "      <td>1</td>\n",
       "      <td>295</td>\n",
       "    </tr>\n",
       "    <tr>\n",
       "      <th>4</th>\n",
       "      <td>5178</td>\n",
       "      <td>Large Furnished Room Near B'way</td>\n",
       "      <td>8967</td>\n",
       "      <td>Shunichi</td>\n",
       "      <td>Manhattan</td>\n",
       "      <td>Hell's Kitchen</td>\n",
       "      <td>40.76489</td>\n",
       "      <td>-73.98493</td>\n",
       "      <td>Private room</td>\n",
       "      <td>65</td>\n",
       "      <td>2</td>\n",
       "      <td>473</td>\n",
       "      <td>2020-03-15</td>\n",
       "      <td>3.44</td>\n",
       "      <td>1</td>\n",
       "      <td>340</td>\n",
       "    </tr>\n",
       "  </tbody>\n",
       "</table>\n",
       "</div>"
      ],
      "text/plain": [
       "     id                                               name  host_id  \\\n",
       "0  2595                              Skylit Midtown Castle     2845   \n",
       "1  3831  Whole flr w/private bdrm, bath & kitchen(pls r...     4869   \n",
       "2  5121                                    BlissArtsSpace!     7356   \n",
       "3  5136           Spacious Brooklyn Duplex, Patio + Garden     7378   \n",
       "4  5178                   Large Furnished Room Near B'way　     8967   \n",
       "\n",
       "     host_name neighbourhood_group       neighbourhood  latitude  longitude  \\\n",
       "0     Jennifer           Manhattan             Midtown  40.75362  -73.98377   \n",
       "1  LisaRoxanne            Brooklyn        Clinton Hill  40.68514  -73.95976   \n",
       "2        Garon            Brooklyn  Bedford-Stuyvesant  40.68688  -73.95596   \n",
       "3      Rebecca            Brooklyn         Sunset Park  40.66120  -73.99423   \n",
       "4     Shunichi           Manhattan      Hell's Kitchen  40.76489  -73.98493   \n",
       "\n",
       "         room_type  price  minimum_nights  number_of_reviews last_review  \\\n",
       "0  Entire home/apt    175               3                 48  2019-11-04   \n",
       "1  Entire home/apt     75               1                340  2020-08-01   \n",
       "2     Private room     60              29                 50  2019-12-02   \n",
       "3  Entire home/apt    175              14                  1  2014-01-02   \n",
       "4     Private room     65               2                473  2020-03-15   \n",
       "\n",
       "   reviews_per_month  calculated_host_listings_count  availability_365  \n",
       "0               0.37                               2               365  \n",
       "1               4.75                               1               265  \n",
       "2               0.37                               1               365  \n",
       "3               0.01                               1               295  \n",
       "4               3.44                               1               340  "
      ]
     },
     "execution_count": 100,
     "metadata": {},
     "output_type": "execute_result"
    }
   ],
   "source": [
    "# Load in the listings data\n",
    "df = pd.read_csv('data/listings.csv')\n",
    "df.head(5)"
   ]
  },
  {
   "cell_type": "markdown",
   "id": "7df19b18-51a7-48f7-a481-f2c322b44c2b",
   "metadata": {},
   "source": [
    "####  Exercise 1: Create a bar chart and dataframe of top 10 Neigborhoods that have the most expensive listsings on average. \n",
    "Our goal is to make a chart reflecting the top 10 most expensive Neighborhoods.\n",
    "This is a little dubious - we assign \"expensive\" by calculating the average cost of \n",
    "an AirBnB in each neighborhood.\n",
    "\n",
    "1. Make a dataframe that sorts the neighborhood field by decending price.  \n",
    "1. Use head to cut back top the top 10\n",
    "1. Use pandas.plot.barh to generate a histogram (see [this](https://pandas.pydata.org/pandas-docs/stable/reference/api/pandas.DataFrame.plot.barh.html) wiki for details on pandas.plot.barh)\n",
    "1. Display the data that you used to create the bar chart as a table with neighborhood and average price as the columns.  You want this to match the pivot that you create in youur dashboard"
   ]
  },
  {
   "cell_type": "code",
   "execution_count": 101,
   "id": "81d1e6f4-1733-407e-aeb0-acae149f2980",
   "metadata": {},
   "outputs": [],
   "source": [
    "#Our goal is to make a chart reflecting the top 10 most expensive Neighborhoods. This is a little dubious - we assign \"expensive\" by \n",
    "#calculating the average cost of an AirBnB in each neighborhood."
   ]
  },
  {
   "cell_type": "code",
   "execution_count": 102,
   "id": "52f83939-3f09-40ac-baab-794afa048f92",
   "metadata": {
    "tags": []
   },
   "outputs": [],
   "source": [
    "# Our goal is to make a chart reflecting the top 10 most expensive Neighborhoods\n",
    "# This is a little dubious - we assign \"expensive\" by calculating the average cost of \n",
    "# an AirBnB in each neighborhood, then we take the top ten and weight each slice \n",
    "# by the average value.\n",
    "#\n",
    "# make a data frame that sorts the neighborhood field by descending price.  \n",
    "# Use head to cut back to the top 10. Then, use df.plot.barh to generate a histogram."
   ]
  },
  {
   "cell_type": "code",
   "execution_count": 103,
   "id": "f96404b4-04de-4365-b11c-ceea9ef92468",
   "metadata": {
    "tags": []
   },
   "outputs": [],
   "source": [
    "# Now, display the top 10 data frame you created as a table with columns\n",
    "# neighbourhood and price"
   ]
  },
  {
   "cell_type": "code",
   "execution_count": 104,
   "id": "18d2b90d-23b6-4021-8060-e9794e4faaed",
   "metadata": {},
   "outputs": [
    {
     "name": "stdout",
     "output_type": "stream",
     "text": [
      "<class 'pandas.core.frame.DataFrame'>\n",
      "RangeIndex: 46527 entries, 0 to 46526\n",
      "Data columns (total 16 columns):\n",
      " #   Column                          Non-Null Count  Dtype  \n",
      "---  ------                          --------------  -----  \n",
      " 0   id                              46527 non-null  int64  \n",
      " 1   name                            46509 non-null  object \n",
      " 2   host_id                         46527 non-null  int64  \n",
      " 3   host_name                       46492 non-null  object \n",
      " 4   neighbourhood_group             46527 non-null  object \n",
      " 5   neighbourhood                   46527 non-null  object \n",
      " 6   latitude                        46527 non-null  float64\n",
      " 7   longitude                       46527 non-null  float64\n",
      " 8   room_type                       46527 non-null  object \n",
      " 9   price                           46527 non-null  int64  \n",
      " 10  minimum_nights                  46527 non-null  int64  \n",
      " 11  number_of_reviews               46527 non-null  int64  \n",
      " 12  last_review                     35816 non-null  object \n",
      " 13  reviews_per_month               35816 non-null  float64\n",
      " 14  calculated_host_listings_count  46527 non-null  int64  \n",
      " 15  availability_365                46527 non-null  int64  \n",
      "dtypes: float64(3), int64(7), object(6)\n",
      "memory usage: 5.7+ MB\n"
     ]
    }
   ],
   "source": [
    "#Getting general information \n",
    "df.info()"
   ]
  },
  {
   "cell_type": "code",
   "execution_count": 105,
   "id": "1002f80a-2835-4ce3-8407-927739333b6b",
   "metadata": {},
   "outputs": [
    {
     "data": {
      "text/html": [
       "<div>\n",
       "<style scoped>\n",
       "    .dataframe tbody tr th:only-of-type {\n",
       "        vertical-align: middle;\n",
       "    }\n",
       "\n",
       "    .dataframe tbody tr th {\n",
       "        vertical-align: top;\n",
       "    }\n",
       "\n",
       "    .dataframe thead th {\n",
       "        text-align: right;\n",
       "    }\n",
       "</style>\n",
       "<table border=\"1\" class=\"dataframe\">\n",
       "  <thead>\n",
       "    <tr style=\"text-align: right;\">\n",
       "      <th></th>\n",
       "      <th>id</th>\n",
       "      <th>name</th>\n",
       "      <th>host_id</th>\n",
       "      <th>neighbourhood_group</th>\n",
       "      <th>neighbourhood</th>\n",
       "      <th>price</th>\n",
       "    </tr>\n",
       "  </thead>\n",
       "  <tbody>\n",
       "    <tr>\n",
       "      <th>0</th>\n",
       "      <td>2595</td>\n",
       "      <td>Skylit Midtown Castle</td>\n",
       "      <td>2845</td>\n",
       "      <td>Manhattan</td>\n",
       "      <td>Midtown</td>\n",
       "      <td>175</td>\n",
       "    </tr>\n",
       "    <tr>\n",
       "      <th>1</th>\n",
       "      <td>3831</td>\n",
       "      <td>Whole flr w/private bdrm, bath &amp; kitchen(pls r...</td>\n",
       "      <td>4869</td>\n",
       "      <td>Brooklyn</td>\n",
       "      <td>Clinton Hill</td>\n",
       "      <td>75</td>\n",
       "    </tr>\n",
       "    <tr>\n",
       "      <th>2</th>\n",
       "      <td>5121</td>\n",
       "      <td>BlissArtsSpace!</td>\n",
       "      <td>7356</td>\n",
       "      <td>Brooklyn</td>\n",
       "      <td>Bedford-Stuyvesant</td>\n",
       "      <td>60</td>\n",
       "    </tr>\n",
       "    <tr>\n",
       "      <th>3</th>\n",
       "      <td>5136</td>\n",
       "      <td>Spacious Brooklyn Duplex, Patio + Garden</td>\n",
       "      <td>7378</td>\n",
       "      <td>Brooklyn</td>\n",
       "      <td>Sunset Park</td>\n",
       "      <td>175</td>\n",
       "    </tr>\n",
       "    <tr>\n",
       "      <th>4</th>\n",
       "      <td>5178</td>\n",
       "      <td>Large Furnished Room Near B'way</td>\n",
       "      <td>8967</td>\n",
       "      <td>Manhattan</td>\n",
       "      <td>Hell's Kitchen</td>\n",
       "      <td>65</td>\n",
       "    </tr>\n",
       "  </tbody>\n",
       "</table>\n",
       "</div>"
      ],
      "text/plain": [
       "     id                                               name  host_id  \\\n",
       "0  2595                              Skylit Midtown Castle     2845   \n",
       "1  3831  Whole flr w/private bdrm, bath & kitchen(pls r...     4869   \n",
       "2  5121                                    BlissArtsSpace!     7356   \n",
       "3  5136           Spacious Brooklyn Duplex, Patio + Garden     7378   \n",
       "4  5178                   Large Furnished Room Near B'way　     8967   \n",
       "\n",
       "  neighbourhood_group       neighbourhood  price  \n",
       "0           Manhattan             Midtown    175  \n",
       "1            Brooklyn        Clinton Hill     75  \n",
       "2            Brooklyn  Bedford-Stuyvesant     60  \n",
       "3            Brooklyn         Sunset Park    175  \n",
       "4           Manhattan      Hell's Kitchen     65  "
      ]
     },
     "execution_count": 105,
     "metadata": {},
     "output_type": "execute_result"
    }
   ],
   "source": [
    "#Get the columns that I need\n",
    "df_listings = df[['id', 'name', 'host_id','neighbourhood_group', 'neighbourhood', 'price']]\n",
    "df_listings.head()"
   ]
  },
  {
   "cell_type": "code",
   "execution_count": 113,
   "id": "95b97309-e0a0-478b-bdeb-202404824deb",
   "metadata": {},
   "outputs": [
    {
     "data": {
      "text/plain": [
       "neighbourhood\n",
       "Williamsburg                  3486\n",
       "Bedford-Stuyvesant            3438\n",
       "Harlem                        2503\n",
       "Bushwick                      2225\n",
       "Hell's Kitchen                1858\n",
       "                              ... \n",
       "Huguenot                         1\n",
       "Willowbrook                      1\n",
       "Gerritsen Beach                  1\n",
       "Bay Terrace, Staten Island       1\n",
       "Rossville                        1\n",
       "Name: count, Length: 222, dtype: int64"
      ]
     },
     "execution_count": 113,
     "metadata": {},
     "output_type": "execute_result"
    }
   ],
   "source": [
    "#Checking how many of each neighbourhood we have\n",
    "df_listings['neighbourhood'].value_counts()"
   ]
  },
  {
   "cell_type": "code",
   "execution_count": 114,
   "id": "f4449256-c89a-4ac1-a954-21752609810f",
   "metadata": {},
   "outputs": [
    {
     "data": {
      "text/html": [
       "<div>\n",
       "<style scoped>\n",
       "    .dataframe tbody tr th:only-of-type {\n",
       "        vertical-align: middle;\n",
       "    }\n",
       "\n",
       "    .dataframe tbody tr th {\n",
       "        vertical-align: top;\n",
       "    }\n",
       "\n",
       "    .dataframe thead th {\n",
       "        text-align: right;\n",
       "    }\n",
       "</style>\n",
       "<table border=\"1\" class=\"dataframe\">\n",
       "  <thead>\n",
       "    <tr style=\"text-align: right;\">\n",
       "      <th></th>\n",
       "      <th>id</th>\n",
       "      <th>name</th>\n",
       "      <th>host_id</th>\n",
       "      <th>neighbourhood_group</th>\n",
       "      <th>neighbourhood</th>\n",
       "      <th>price</th>\n",
       "    </tr>\n",
       "  </thead>\n",
       "  <tbody>\n",
       "    <tr>\n",
       "      <th>38738</th>\n",
       "      <td>39574087</td>\n",
       "      <td>The Allen Hotel, Deluxe Penthouse King Suite</td>\n",
       "      <td>266741420</td>\n",
       "      <td>Manhattan</td>\n",
       "      <td>Lower East Side</td>\n",
       "      <td>10000</td>\n",
       "    </tr>\n",
       "    <tr>\n",
       "      <th>14718</th>\n",
       "      <td>13894339</td>\n",
       "      <td>Luxury 1 bedroom apt. -stunning Manhattan views</td>\n",
       "      <td>5143901</td>\n",
       "      <td>Brooklyn</td>\n",
       "      <td>Greenpoint</td>\n",
       "      <td>10000</td>\n",
       "    </tr>\n",
       "    <tr>\n",
       "      <th>38075</th>\n",
       "      <td>39100961</td>\n",
       "      <td>Chambers Hotel, Chambers Hotel Queen - ADA</td>\n",
       "      <td>220229838</td>\n",
       "      <td>Manhattan</td>\n",
       "      <td>Midtown</td>\n",
       "      <td>10000</td>\n",
       "    </tr>\n",
       "    <tr>\n",
       "      <th>14763</th>\n",
       "      <td>13925864</td>\n",
       "      <td>Puerto Plata</td>\n",
       "      <td>58480311</td>\n",
       "      <td>Queens</td>\n",
       "      <td>Long Island City</td>\n",
       "      <td>10000</td>\n",
       "    </tr>\n",
       "    <tr>\n",
       "      <th>31004</th>\n",
       "      <td>31219800</td>\n",
       "      <td>~New jersey loft</td>\n",
       "      <td>172226912</td>\n",
       "      <td>Manhattan</td>\n",
       "      <td>Murray Hill</td>\n",
       "      <td>10000</td>\n",
       "    </tr>\n",
       "    <tr>\n",
       "      <th>36031</th>\n",
       "      <td>37059577</td>\n",
       "      <td>Celebrity building, panoramic/uninterrupted views</td>\n",
       "      <td>278736146</td>\n",
       "      <td>Manhattan</td>\n",
       "      <td>Hell's Kitchen</td>\n",
       "      <td>10000</td>\n",
       "    </tr>\n",
       "    <tr>\n",
       "      <th>23652</th>\n",
       "      <td>22436899</td>\n",
       "      <td>1-BR Lincoln Center</td>\n",
       "      <td>72390391</td>\n",
       "      <td>Manhattan</td>\n",
       "      <td>Upper West Side</td>\n",
       "      <td>10000</td>\n",
       "    </tr>\n",
       "    <tr>\n",
       "      <th>27091</th>\n",
       "      <td>26986636</td>\n",
       "      <td>Two Bedroom Suite</td>\n",
       "      <td>176952168</td>\n",
       "      <td>Manhattan</td>\n",
       "      <td>Financial District</td>\n",
       "      <td>9999</td>\n",
       "    </tr>\n",
       "    <tr>\n",
       "      <th>27979</th>\n",
       "      <td>28132224</td>\n",
       "      <td>Standard Double at AKA Tribeca</td>\n",
       "      <td>212484716</td>\n",
       "      <td>Manhattan</td>\n",
       "      <td>Midtown</td>\n",
       "      <td>9999</td>\n",
       "    </tr>\n",
       "    <tr>\n",
       "      <th>27093</th>\n",
       "      <td>26987123</td>\n",
       "      <td>Studio Premium Suite</td>\n",
       "      <td>176952168</td>\n",
       "      <td>Manhattan</td>\n",
       "      <td>Financial District</td>\n",
       "      <td>9999</td>\n",
       "    </tr>\n",
       "  </tbody>\n",
       "</table>\n",
       "</div>"
      ],
      "text/plain": [
       "             id                                               name    host_id  \\\n",
       "38738  39574087       The Allen Hotel, Deluxe Penthouse King Suite  266741420   \n",
       "14718  13894339    Luxury 1 bedroom apt. -stunning Manhattan views    5143901   \n",
       "38075  39100961         Chambers Hotel, Chambers Hotel Queen - ADA  220229838   \n",
       "14763  13925864                                       Puerto Plata   58480311   \n",
       "31004  31219800                                   ~New jersey loft  172226912   \n",
       "36031  37059577  Celebrity building, panoramic/uninterrupted views  278736146   \n",
       "23652  22436899                                1-BR Lincoln Center   72390391   \n",
       "27091  26986636                                  Two Bedroom Suite  176952168   \n",
       "27979  28132224                     Standard Double at AKA Tribeca  212484716   \n",
       "27093  26987123                               Studio Premium Suite  176952168   \n",
       "\n",
       "      neighbourhood_group       neighbourhood  price  \n",
       "38738           Manhattan     Lower East Side  10000  \n",
       "14718            Brooklyn          Greenpoint  10000  \n",
       "38075           Manhattan             Midtown  10000  \n",
       "14763              Queens    Long Island City  10000  \n",
       "31004           Manhattan         Murray Hill  10000  \n",
       "36031           Manhattan      Hell's Kitchen  10000  \n",
       "23652           Manhattan     Upper West Side  10000  \n",
       "27091           Manhattan  Financial District   9999  \n",
       "27979           Manhattan             Midtown   9999  \n",
       "27093           Manhattan  Financial District   9999  "
      ]
     },
     "execution_count": 114,
     "metadata": {},
     "output_type": "execute_result"
    }
   ],
   "source": [
    "#Sorting all of the listings by their price from highest to lowest\n",
    "df_listings_in_price_descending_order = df_listings.sort_values(by='price', ascending=False)\n",
    "df_listings_in_price_descending_order.head(10)"
   ]
  },
  {
   "cell_type": "code",
   "execution_count": 120,
   "id": "38f28c29-aaf9-4c3a-bc44-1f505e01aee1",
   "metadata": {},
   "outputs": [
    {
     "data": {
      "text/plain": [
       "neighbourhood\n",
       "Fort Wadsworth        800.000000\n",
       "Woodrow               700.000000\n",
       "Sea Gate              418.230769\n",
       "Tribeca               381.107143\n",
       "Flatiron District     367.415584\n",
       "Briarwood             366.162162\n",
       "Financial District    335.385057\n",
       "Willowbrook           309.000000\n",
       "Tottenville           309.000000\n",
       "Prince's Bay          300.000000\n",
       "Name: price, dtype: float64"
      ]
     },
     "execution_count": 120,
     "metadata": {},
     "output_type": "execute_result"
    }
   ],
   "source": [
    "#Grouping the neighbourhoods by their average prices in descending order and grabbing top 10\n",
    "average_price_of_neighbourhoods = df_listings.groupby('neighbourhood')['price'].mean()\n",
    "average_price_of_neighbourhoods_most_expensive = average_price_of_neighbourhoods.sort_values(ascending=False).head(10)\n",
    "average_price_of_neighbourhoods_most_expensive"
   ]
  },
  {
   "cell_type": "code",
   "execution_count": 122,
   "id": "67652bd8-e334-49c4-b892-5348113aab93",
   "metadata": {},
   "outputs": [
    {
     "data": {
      "text/plain": [
       "Text(0, 0.5, 'Neighbourhoods of AirBNB')"
      ]
     },
     "execution_count": 122,
     "metadata": {},
     "output_type": "execute_result"
    },
    {
     "data": {
      "image/png": "[encoded data removed]",
      "text/plain": [
       "<Figure size 640x480 with 1 Axes>"
      ]
     },
     "metadata": {},
     "output_type": "display_data"
    }
   ],
   "source": [
    "# Creating a horizontal barplot from Series\n",
    "graph = average_price_of_neighbourhoods_most_expensive.plot(kind='barh', color='pink', title='Average Price of Top Ten Priciest Neighbourhoods')\n",
    "\n",
    "# Adding labels\n",
    "graph.set_xlabel('Prices')\n",
    "graph.set_ylabel('Neighbourhoods of AirBNB')"
   ]
  },
  {
   "cell_type": "code",
   "execution_count": 152,
   "id": "85122af8-628a-4e54-a986-5fe6c255ecd8",
   "metadata": {},
   "outputs": [
    {
     "name": "stdout",
     "output_type": "stream",
     "text": [
      "+---+--------------------+--------------------+\n",
      "|   |   neighbourhood    |       price        |\n",
      "+---+--------------------+--------------------+\n",
      "| 0 |   Fort Wadsworth   |       800.0        |\n",
      "| 1 |      Woodrow       |       700.0        |\n",
      "| 2 |      Sea Gate      | 418.2307692307692  |\n",
      "| 3 |      Tribeca       | 381.10714285714283 |\n",
      "| 4 | Flatiron District  | 367.4155844155844  |\n",
      "| 5 |     Briarwood      | 366.1621621621622  |\n",
      "| 6 | Financial District | 335.38505747126436 |\n",
      "| 7 |    Willowbrook     |       309.0        |\n",
      "| 8 |    Tottenville     |       309.0        |\n",
      "| 9 |    Prince's Bay    |       300.0        |\n",
      "+---+--------------------+--------------------+\n"
     ]
    }
   ],
   "source": [
    "# Convert Series to DataFrame\n",
    "df_average_price_of_neighbourhoods_most_expensive = pd.DataFrame(average_price_of_neighbourhoods_most_expensive)\n",
    "\n",
    "# Reset the index\n",
    "df_average_price_of_neighbourhoods_most_expensive = df_average_price_of_neighbourhoods_most_expensive.reset_index()\n",
    "\n",
    "# Make and display the table\n",
    "table = tabulate(df_average_price_of_neighbourhoods_most_expensive, headers='keys', tablefmt='pretty')\n",
    "print(table)"
   ]
  },
  {
   "cell_type": "markdown",
   "id": "0eecec35-4f94-4faf-9d98-f16211801ffd",
   "metadata": {},
   "source": [
    "####  Exercise 2: Create a bar chart and dataframe of top 10 Neigborhoods that have the LEAST expensive listsings on average. \n",
    "\n",
    "Do the same thing you just did, but get the 10 least expensive neighborhoods.  Sort them from lowest average price to highest.  Bew wure to provide a pivot table."
   ]
  },
  {
   "cell_type": "code",
   "execution_count": 110,
   "id": "b1712997-2ab1-4dee-b506-f448b4c0829e",
   "metadata": {
    "tags": []
   },
   "outputs": [],
   "source": [
    "# Here we make the same chart using the bottom 10 Neighborhoods\n",
    "# by average price.  We sort ascending in this one."
   ]
  },
  {
   "cell_type": "code",
   "execution_count": 111,
   "id": "92a1d4e4-4bae-411b-aee8-3d41b89c6272",
   "metadata": {
    "tags": []
   },
   "outputs": [],
   "source": [
    "# we also would like to have the corresponding pivot table of the lowest 10"
   ]
  },
  {
   "cell_type": "code",
   "execution_count": 116,
   "id": "6b5a39e9-857d-4d44-a6ac-a301c3f918ea",
   "metadata": {},
   "outputs": [
    {
     "data": {
      "text/html": [
       "<div>\n",
       "<style scoped>\n",
       "    .dataframe tbody tr th:only-of-type {\n",
       "        vertical-align: middle;\n",
       "    }\n",
       "\n",
       "    .dataframe tbody tr th {\n",
       "        vertical-align: top;\n",
       "    }\n",
       "\n",
       "    .dataframe thead th {\n",
       "        text-align: right;\n",
       "    }\n",
       "</style>\n",
       "<table border=\"1\" class=\"dataframe\">\n",
       "  <thead>\n",
       "    <tr style=\"text-align: right;\">\n",
       "      <th></th>\n",
       "      <th>id</th>\n",
       "      <th>name</th>\n",
       "      <th>host_id</th>\n",
       "      <th>neighbourhood_group</th>\n",
       "      <th>neighbourhood</th>\n",
       "      <th>price</th>\n",
       "    </tr>\n",
       "  </thead>\n",
       "  <tbody>\n",
       "    <tr>\n",
       "      <th>42224</th>\n",
       "      <td>42065555</td>\n",
       "      <td>Pod Hotel BK</td>\n",
       "      <td>309714886</td>\n",
       "      <td>Brooklyn</td>\n",
       "      <td>Williamsburg</td>\n",
       "      <td>0</td>\n",
       "    </tr>\n",
       "    <tr>\n",
       "      <th>42225</th>\n",
       "      <td>42065564</td>\n",
       "      <td>The Wall Street Inn</td>\n",
       "      <td>314151200</td>\n",
       "      <td>Manhattan</td>\n",
       "      <td>Financial District</td>\n",
       "      <td>0</td>\n",
       "    </tr>\n",
       "    <tr>\n",
       "      <th>43798</th>\n",
       "      <td>43078551</td>\n",
       "      <td>SIXTY SoHo</td>\n",
       "      <td>341876038</td>\n",
       "      <td>Manhattan</td>\n",
       "      <td>SoHo</td>\n",
       "      <td>0</td>\n",
       "    </tr>\n",
       "    <tr>\n",
       "      <th>43799</th>\n",
       "      <td>43078552</td>\n",
       "      <td>SIXTY LES</td>\n",
       "      <td>342053968</td>\n",
       "      <td>Manhattan</td>\n",
       "      <td>Lower East Side</td>\n",
       "      <td>0</td>\n",
       "    </tr>\n",
       "    <tr>\n",
       "      <th>43800</th>\n",
       "      <td>43078557</td>\n",
       "      <td>Hotel Pennsylvania</td>\n",
       "      <td>333431518</td>\n",
       "      <td>Manhattan</td>\n",
       "      <td>Chelsea</td>\n",
       "      <td>0</td>\n",
       "    </tr>\n",
       "    <tr>\n",
       "      <th>...</th>\n",
       "      <td>...</td>\n",
       "      <td>...</td>\n",
       "      <td>...</td>\n",
       "      <td>...</td>\n",
       "      <td>...</td>\n",
       "      <td>...</td>\n",
       "    </tr>\n",
       "    <tr>\n",
       "      <th>38075</th>\n",
       "      <td>39100961</td>\n",
       "      <td>Chambers Hotel, Chambers Hotel Queen - ADA</td>\n",
       "      <td>220229838</td>\n",
       "      <td>Manhattan</td>\n",
       "      <td>Midtown</td>\n",
       "      <td>10000</td>\n",
       "    </tr>\n",
       "    <tr>\n",
       "      <th>31004</th>\n",
       "      <td>31219800</td>\n",
       "      <td>~New jersey loft</td>\n",
       "      <td>172226912</td>\n",
       "      <td>Manhattan</td>\n",
       "      <td>Murray Hill</td>\n",
       "      <td>10000</td>\n",
       "    </tr>\n",
       "    <tr>\n",
       "      <th>23652</th>\n",
       "      <td>22436899</td>\n",
       "      <td>1-BR Lincoln Center</td>\n",
       "      <td>72390391</td>\n",
       "      <td>Manhattan</td>\n",
       "      <td>Upper West Side</td>\n",
       "      <td>10000</td>\n",
       "    </tr>\n",
       "    <tr>\n",
       "      <th>36031</th>\n",
       "      <td>37059577</td>\n",
       "      <td>Celebrity building, panoramic/uninterrupted views</td>\n",
       "      <td>278736146</td>\n",
       "      <td>Manhattan</td>\n",
       "      <td>Hell's Kitchen</td>\n",
       "      <td>10000</td>\n",
       "    </tr>\n",
       "    <tr>\n",
       "      <th>14718</th>\n",
       "      <td>13894339</td>\n",
       "      <td>Luxury 1 bedroom apt. -stunning Manhattan views</td>\n",
       "      <td>5143901</td>\n",
       "      <td>Brooklyn</td>\n",
       "      <td>Greenpoint</td>\n",
       "      <td>10000</td>\n",
       "    </tr>\n",
       "  </tbody>\n",
       "</table>\n",
       "<p>46527 rows × 6 columns</p>\n",
       "</div>"
      ],
      "text/plain": [
       "             id                                               name    host_id  \\\n",
       "42224  42065555                                       Pod Hotel BK  309714886   \n",
       "42225  42065564                                The Wall Street Inn  314151200   \n",
       "43798  43078551                                         SIXTY SoHo  341876038   \n",
       "43799  43078552                                          SIXTY LES  342053968   \n",
       "43800  43078557                                 Hotel Pennsylvania  333431518   \n",
       "...         ...                                                ...        ...   \n",
       "38075  39100961         Chambers Hotel, Chambers Hotel Queen - ADA  220229838   \n",
       "31004  31219800                                   ~New jersey loft  172226912   \n",
       "23652  22436899                                1-BR Lincoln Center   72390391   \n",
       "36031  37059577  Celebrity building, panoramic/uninterrupted views  278736146   \n",
       "14718  13894339    Luxury 1 bedroom apt. -stunning Manhattan views    5143901   \n",
       "\n",
       "      neighbourhood_group       neighbourhood  price  \n",
       "42224            Brooklyn        Williamsburg      0  \n",
       "42225           Manhattan  Financial District      0  \n",
       "43798           Manhattan                SoHo      0  \n",
       "43799           Manhattan     Lower East Side      0  \n",
       "43800           Manhattan             Chelsea      0  \n",
       "...                   ...                 ...    ...  \n",
       "38075           Manhattan             Midtown  10000  \n",
       "31004           Manhattan         Murray Hill  10000  \n",
       "23652           Manhattan     Upper West Side  10000  \n",
       "36031           Manhattan      Hell's Kitchen  10000  \n",
       "14718            Brooklyn          Greenpoint  10000  \n",
       "\n",
       "[46527 rows x 6 columns]"
      ]
     },
     "execution_count": 116,
     "metadata": {},
     "output_type": "execute_result"
    }
   ],
   "source": [
    "df_listings_in_ascending_order = df_listings.sort_values(by='price', ascending=True)\n",
    "df_listings_in_ascending_order"
   ]
  },
  {
   "cell_type": "code",
   "execution_count": 121,
   "id": "5536efa4-8767-4ab6-945b-c3f95c15776e",
   "metadata": {},
   "outputs": [
    {
     "data": {
      "text/plain": [
       "neighbourhood\n",
       "South Beach                   45.000000\n",
       "Bull's Head                   49.666667\n",
       "Port Richmond                 51.222222\n",
       "Soundview                     52.055556\n",
       "New Brighton                  52.250000\n",
       "Bay Terrace, Staten Island    55.000000\n",
       "Hunts Point                   56.583333\n",
       "University Heights            57.826087\n",
       "Grant City                    58.400000\n",
       "Olinville                     59.428571\n",
       "Name: price, dtype: float64"
      ]
     },
     "execution_count": 121,
     "metadata": {},
     "output_type": "execute_result"
    }
   ],
   "source": [
    "# Convert Series to DataFrame\n",
    "average_price_of_neighbourhoods = df_listings.groupby('neighbourhood')['price'].mean()\n",
    "\n",
    "\n",
    "average_price_of_neighbourhoods_least_expensive = average_price_of_neighbourhoods.sort_values(ascending=True).head(10)\n",
    "average_price_of_neighbourhoods_least_expensive"
   ]
  },
  {
   "cell_type": "code",
   "execution_count": 126,
   "id": "adae3430-0cb6-463b-899d-7ddb76c7b8f2",
   "metadata": {},
   "outputs": [
    {
     "data": {
      "text/plain": [
       "Text(0, 0.5, 'Neighbourhoods of AirBNB')"
      ]
     },
     "execution_count": 126,
     "metadata": {},
     "output_type": "execute_result"
    },
    {
     "data": {
      "image/png": "[encoded data removed]",
      "text/plain": [
       "<Figure size 640x480 with 1 Axes>"
      ]
     },
     "metadata": {},
     "output_type": "display_data"
    }
   ],
   "source": [
    "graph = average_price_of_neighbourhoods_least_expensive.plot(kind='barh',color='pink', title='Average Price of Top Ten Cheapest Neighbourhoods')\n",
    "\n",
    "graph.set_xlabel('Prices')\n",
    "graph.set_ylabel('Neighbourhoods of AirBNB')"
   ]
  },
  {
   "cell_type": "code",
   "execution_count": 149,
   "id": "aa35bbc3-349e-4ecd-9269-9a5f253be06a",
   "metadata": {},
   "outputs": [
    {
     "name": "stdout",
     "output_type": "stream",
     "text": [
      "+---+----------------------------+--------------------+\n",
      "|   |       neighbourhood        |       price        |\n",
      "+---+----------------------------+--------------------+\n",
      "| 0 |        South Beach         |        45.0        |\n",
      "| 1 |        Bull's Head         | 49.666666666666664 |\n",
      "| 2 |       Port Richmond        | 51.22222222222222  |\n",
      "| 3 |         Soundview          | 52.05555555555556  |\n",
      "| 4 |        New Brighton        |       52.25        |\n",
      "| 5 | Bay Terrace, Staten Island |        55.0        |\n",
      "| 6 |        Hunts Point         | 56.583333333333336 |\n",
      "| 7 |     University Heights     | 57.82608695652174  |\n",
      "| 8 |         Grant City         |        58.4        |\n",
      "| 9 |         Olinville          | 59.42857142857143  |\n",
      "+---+----------------------------+--------------------+\n"
     ]
    }
   ],
   "source": [
    "# Convert Series to DataFrame\n",
    "df_average_price_of_neighbourhoods_least_expensive = pd.DataFrame(average_price_of_neighbourhoods_least_expensive)\n",
    "\n",
    "# Reset the index \n",
    "df_average_price_of_neighbourhoods_least_expensive = df_average_price_of_neighbourhoods_least_expensive.reset_index()\n",
    "\n",
    "# Make and display the table\n",
    "table = tabulate(df_average_price_of_neighbourhoods_least_expensive, headers='keys', tablefmt='pretty')\n",
    "print(table)"
   ]
  },
  {
   "cell_type": "markdown",
   "id": "87ac7c97-b384-42d2-abdb-a26e98b12179",
   "metadata": {},
   "source": [
    "#  Now make all four widgets (the two charts and the two dataframes) in a Tableau dashboard!"
   ]
  },
  {
   "cell_type": "markdown",
   "id": "f257616e-e87c-4b3f-b921-d36798df9078",
   "metadata": {},
   "source": []
  },
  {
   "cell_type": "code",
   "execution_count": null,
   "id": "c91f04d2-c271-4b31-ba8e-44643d21667a",
   "metadata": {},
   "outputs": [],
   "source": []
  },
  {
   "cell_type": "code",
   "execution_count": null,
   "id": "ddf83e8e-d5b3-4464-88af-81ce00446503",
   "metadata": {},
   "outputs": [],
   "source": []
  }
 ],
 "metadata": {
  "kernelspec": {
   "display_name": "Python 3 (ipykernel)",
   "language": "python",
   "name": "python3"
  },
  "language_info": {
   "codemirror_mode": {
    "name": "ipython",
    "version": 3
   },
   "file_extension": ".py",
   "mimetype": "text/x-python",
   "name": "python",
   "nbconvert_exporter": "python",
   "pygments_lexer": "ipython3",
   "version": "3.12.4"
  }
 },
 "nbformat": 4,
 "nbformat_minor": 5
}
